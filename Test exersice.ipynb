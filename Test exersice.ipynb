{
 "cells": [
  {
   "cell_type": "code",
   "execution_count": 20,
   "metadata": {},
   "outputs": [
    {
     "name": "stdout",
     "output_type": "stream",
     "text": [
      "Found files: ['test_directory\\\\Александр.docx', 'test_directory\\\\Анастасия.docx', 'test_directory\\\\Антон.docx', 'test_directory\\\\Галим.docx', 'test_directory\\\\Михаил.docx', 'test_directory\\\\Сергей.docx', 'test_directory\\\\Татьяна.docx']\n",
      "Found emails: ['kokryashkina@gmail.com', 'kokryashkina@gmail.com', 'kokryashkina@gmail.com', 'kokryashkina@gmail.com', 'kokryashkina@gmail.com']\n"
     ]
    }
   ],
   "source": [
    "import docx\n",
    "from glob import glob\n",
    "\n",
    "filepathes = glob(\"test_directory\\*.docx\")\n",
    "\n",
    "print(\"Found files: \", end=\"\")\n",
    "print(filepathes)\n",
    "\n",
    "emails = []\n",
    "for path in filepathes:\n",
    "    document = docx.Document(path)\n",
    "    for paragraph in document.paragraphs:\n",
    "        if paragraph.text.find('@') != -1:\n",
    "            pos_at = paragraph.text.find('@')\n",
    "            left_part = paragraph.text[:pos_at].rfind(' ') + 1\n",
    "            right_part = paragraph.text[pos_at:].find(' ') + pos_at\n",
    "            email = paragraph.text[left_part:right_part]\n",
    "            emails.append(email)  \n",
    "            break\n",
    "print(\"Found emails: \", end=\"\")\n",
    "print(emails)"
   ]
  },
  {
   "cell_type": "code",
   "execution_count": 21,
   "metadata": {},
   "outputs": [
    {
     "name": "stdout",
     "output_type": "stream",
     "text": [
      "Меня зовут Татьяна, я- менеджер по подбору персонала, ищу PL/SQL – разработчика.\n",
      "Работодатель- страховая компания «….», входит в международную страховую группу «…»\n",
      "Сайт: http://...\n",
      "\n",
      "Вакансия открыта в связи с увеличением объема задач и расширением отдела. В подразделении есть опытные сотрудники, которые готовы поделиться своим опытом. \n",
      "Уже через работы в нашей команде Вы сможете правильно создавать хранилище данных с учётом требований бизнес-логики. И, конечно же, писать грамотные хранимые процедуры, которые облегчат жизнь и человеку, который работает с БД и тем, кто работает с этой БД через эти процедуры. \n",
      "Условия:\n",
      "- График обсуждаем, можно совмещать с учебой;\n",
      "- Работа у метро Пролетарская (пешая доступность);\n",
      "- Уровень заработной платы до 140 тыс. руб., обсуждается;\n",
      " - Оформление по ТК РФ в штат;\n",
      "- Свободный дресс-код;\n",
      "- Возможности для профессионального развития.\n",
      "\n",
      " Функционал:\n",
      "- Написание дополнительных скриптов, создание в ИС (Информационной системе) новых форм и корректировка действующих форм (экранных форм, форм печатных документов, шаблонов, таблиц и т.п.);\n",
      "- Импорт/экспорт данных в/из Oracle;\n",
      "- Разработка и оптимизация запросов и отчетов на выборку данных;\n",
      "- Контроль и сверка целостности данных при обмене с внешними получателями (сторонние организации), разбор ошибок передачи данных и их устранение;\n",
      "- Взаимодействие с сотрудниками разработчика ИС - помощь в написании технического задания для ИС, контроль исполнения разработчиками действующих задач;\n",
      "- Оказание помощи пользователям ИС в разборе инцидентов и ошибок системы.\n",
      " Пожелания к кандидату:\n",
      "- Знание PL/SQL;\n",
      "- Хорошая обучаемость, развитые коммуникативные навыки;\n",
      "- Умение администрировать и настраивать сервера Oracle желательно;\n",
      "- Плюсом будет опыт работы в Страховой компании, опыт работы с ИС КИАС.\n",
      "Если Вам интересна данная вакансия, зарезервируйте, пожалуйста, удобное для Вас время для телефонного интервью https://doodle.com/mm/u9245674576/book-a-time\n",
      "\n",
      "Please visit this URL to authorize this application: https://accounts.google.com/o/oauth2/auth?response_type=code&client_id=1007291319922-1a32luff45s8t0rfe86apg7o9ppekgl3.apps.googleusercontent.com&redirect_uri=http%3A%2F%2Flocalhost%3A63413%2F&scope=https%3A%2F%2Fwww.googleapis.com%2Fauth%2Fgmail.send&state=VeaRn9oU2UAQMf3pC2EkowagX1poE7&access_type=offline\n"
     ]
    },
    {
     "name": "stderr",
     "output_type": "stream",
     "text": [
      "WARNING:googleapiclient.discovery_cache:file_cache is unavailable when using oauth2client >= 4.0.0 or google-auth\n",
      "Traceback (most recent call last):\n",
      "  File \"C:\\Users\\kokry\\anaconda3\\lib\\site-packages\\googleapiclient\\discovery_cache\\file_cache.py\", line 33, in <module>\n",
      "    from oauth2client.contrib.locked_file import LockedFile\n",
      "ModuleNotFoundError: No module named 'oauth2client'\n",
      "\n",
      "During handling of the above exception, another exception occurred:\n",
      "\n",
      "Traceback (most recent call last):\n",
      "  File \"C:\\Users\\kokry\\anaconda3\\lib\\site-packages\\googleapiclient\\discovery_cache\\file_cache.py\", line 37, in <module>\n",
      "    from oauth2client.locked_file import LockedFile\n",
      "ModuleNotFoundError: No module named 'oauth2client'\n",
      "\n",
      "During handling of the above exception, another exception occurred:\n",
      "\n",
      "Traceback (most recent call last):\n",
      "  File \"C:\\Users\\kokry\\anaconda3\\lib\\site-packages\\googleapiclient\\discovery_cache\\__init__.py\", line 44, in autodetect\n",
      "    from . import file_cache\n",
      "  File \"C:\\Users\\kokry\\anaconda3\\lib\\site-packages\\googleapiclient\\discovery_cache\\file_cache.py\", line 41, in <module>\n",
      "    \"file_cache is unavailable when using oauth2client >= 4.0.0 or google-auth\"\n",
      "ImportError: file_cache is unavailable when using oauth2client >= 4.0.0 or google-auth\n"
     ]
    },
    {
     "name": "stdout",
     "output_type": "stream",
     "text": [
      "here\n",
      "Sending message to kokryashkina@gmail.com\n",
      "Message Id: 17425c96dd5422d1\n",
      "Sending message to kokryashkina@gmail.com\n",
      "Message Id: 17425c96c8646e72\n",
      "Sending message to kokryashkina@gmail.com\n",
      "Message Id: 17425c96e592246a\n",
      "Sending message to kokryashkina@gmail.com\n",
      "Message Id: 17425c971affa6d7\n",
      "Sending message to kokryashkina@gmail.com\n",
      "Message Id: 17425c97173f6c72\n"
     ]
    }
   ],
   "source": [
    "from __future__ import print_function\n",
    "import pickle\n",
    "import os.path\n",
    "from googleapiclient.discovery import build\n",
    "from google_auth_oauthlib.flow import InstalledAppFlow\n",
    "from google.auth.transport.requests import Request\n",
    "import base64\n",
    "from email.mime.text import MIMEText\n",
    "\n",
    "def create_message(sender, to, subject, message_text):\n",
    "  message = MIMEText(message_text)\n",
    "  message['to'] = to\n",
    "  message['from'] = sender\n",
    "  message['subject'] = subject\n",
    "  raw_message = base64.urlsafe_b64encode(message.as_string().encode(\"utf-8\"))\n",
    "  return {\n",
    "    'raw': raw_message.decode(\"utf-8\")\n",
    "  }\n",
    "\n",
    "def send_message(service, user_id, message):\n",
    "  try:\n",
    "    message = service.users().messages().send(userId=user_id, body=message).execute()\n",
    "    print('Message Id: %s' % message['id'])\n",
    "    return message\n",
    "  except Exception as e:\n",
    "    print('An error occurred: %s' % e)\n",
    "    return None\n",
    "\n",
    "with open(\"letter.txt\", \"r\") as letter_file:\n",
    "    letter_text = letter_file.read()\n",
    "print(letter_text)\n",
    "\n",
    "# If modifying these scopes, delete the file token.pickle.\n",
    "SCOPES = ['https://www.googleapis.com/auth/gmail.send']\n",
    "creds = None\n",
    "# The file token.pickle stores the user's access and refresh tokens, and is\n",
    "# created automatically when the authorization flow completes for the first\n",
    "# time.\n",
    "if os.path.exists('token.pickle'):\n",
    "    with open('token.pickle', 'rb') as token:\n",
    "        creds = pickle.load(token)\n",
    "# If there are no (valid) credentials available, let the user log in.\n",
    "if not creds or not creds.valid:\n",
    "    if creds and creds.expired and creds.refresh_token:\n",
    "        creds.refresh(Request())\n",
    "    else:\n",
    "        flow = InstalledAppFlow.from_client_secrets_file(\n",
    "            'credentials.json', SCOPES)\n",
    "        creds = flow.run_local_server(port=0)\n",
    "    # Save the credentials for the next run\n",
    "    with open('token.pickle', 'wb') as token:\n",
    "        pickle.dump(creds, token)\n",
    "\n",
    "service = build('gmail', 'v1', credentials=creds)\n",
    "print(\"here\")\n",
    "\n",
    "for email in emails:\n",
    "    print(\"Sending message to \" + str(email))\n",
    "    message = create_message('tk27082020', email, 'Вакансия PL/SQL разработчика [Москва]', letter_text)\n",
    "    send_message(service, 'me', message)"
   ]
  },
  {
   "cell_type": "code",
   "execution_count": null,
   "metadata": {},
   "outputs": [],
   "source": []
  }
 ],
 "metadata": {
  "kernelspec": {
   "display_name": "Python 3",
   "language": "python",
   "name": "python3"
  },
  "language_info": {
   "codemirror_mode": {
    "name": "ipython",
    "version": 3
   },
   "file_extension": ".py",
   "mimetype": "text/x-python",
   "name": "python",
   "nbconvert_exporter": "python",
   "pygments_lexer": "ipython3",
   "version": "3.7.6"
  }
 },
 "nbformat": 4,
 "nbformat_minor": 4
}
